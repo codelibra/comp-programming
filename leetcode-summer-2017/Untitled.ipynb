{
 "cells": [
  {
   "cell_type": "code",
   "execution_count": 122,
   "metadata": {
    "ExecuteTime": {
     "end_time": "2017-05-22T19:11:41.428614",
     "start_time": "2017-05-22T15:11:41.416618-04:00"
    },
    "collapsed": false
   },
   "outputs": [],
   "source": [
    "import codecs\n",
    "f = codecs.open('Leetcode.txt', encoding='utf-8')\n",
    "all_questions = list()\n",
    "index = 0\n",
    "for line in f:\n",
    "    index = index + 1\n",
    "    if index<=10: \n",
    "        continue\n",
    "    line = line.split(' ')\n",
    "    all_questions.append(line)\n"
   ]
  },
  {
   "cell_type": "code",
   "execution_count": 123,
   "metadata": {
    "ExecuteTime": {
     "end_time": "2017-05-22T19:11:41.441813",
     "start_time": "2017-05-22T15:11:41.432158-04:00"
    },
    "collapsed": false
   },
   "outputs": [],
   "source": [
    "a_easy_lag =0\n",
    "a_medium_lag =0\n",
    "a_hard_lag =0\n",
    "s_easy_lag =0\n",
    "s_medium_lag =0\n",
    "s_hard_lag =0\n",
    "\n",
    "a_easy_done = 0\n",
    "a_medium_done = 0\n",
    "a_hard_done = 0\n",
    "s_easy_done = 0\n",
    "s_medium_done = 0\n",
    "s_hard_done = 0\n",
    "\n",
    "easy_per_day = 2\n",
    "medium_per_day = 4\n",
    "hard_per_day = 2"
   ]
  },
  {
   "cell_type": "code",
   "execution_count": 124,
   "metadata": {
    "ExecuteTime": {
     "end_time": "2017-05-22T19:11:41.466821",
     "start_time": "2017-05-22T15:11:41.445138-04:00"
    },
    "collapsed": false
   },
   "outputs": [],
   "source": [
    "for question in all_questions:\n",
    "    if \"Easy\" in question:\n",
    "        if question[1]==u'\\u2714':\n",
    "            s_easy_done += 1\n",
    "            \n",
    "        if question[2]==u'\\u2714':\n",
    "            a_easy_done += 1\n",
    "            \n",
    "    if \"Medium\" in question:\n",
    "        if question[1]==u'\\u2714':\n",
    "            s_medium_done += 1\n",
    "            \n",
    "        if question[2]==u'\\u2714':\n",
    "            a_medium_done += 1\n",
    "        \n",
    "    if \"Hard\" in question:\n",
    "        if question[1]==u'\\u2714':\n",
    "            s_hard_done += 1\n",
    "            \n",
    "        if question[2]==u'\\u2714':\n",
    "            a_hard_done += 1\n"
   ]
  },
  {
   "cell_type": "code",
   "execution_count": 125,
   "metadata": {
    "ExecuteTime": {
     "end_time": "2017-05-22T19:11:41.483250",
     "start_time": "2017-05-22T15:11:41.470794-04:00"
    },
    "collapsed": false
   },
   "outputs": [],
   "source": [
    "import datetime\n",
    "from datetime import date\n",
    "\n",
    "def days_between():\n",
    "    start_date = datetime.date(2017,5,22)\n",
    "    today = date.today()\n",
    "    return abs((today - start_date).days)"
   ]
  },
  {
   "cell_type": "code",
   "execution_count": 126,
   "metadata": {
    "ExecuteTime": {
     "end_time": "2017-05-22T19:11:41.543559",
     "start_time": "2017-05-22T15:11:41.487615-04:00"
    },
    "collapsed": false
   },
   "outputs": [],
   "source": [
    "def calculate_lag():\n",
    "    days = days_between()\n",
    "    easy = easy_per_day * days\n",
    "    medium = medium_per_day *days\n",
    "    hard = hard_per_day *days\n",
    "\n",
    "    a_easy_lag = a_easy_done - easy\n",
    "    a_medium_lag = a_medium_done - medium\n",
    "    a_hard_lag = a_hard_done - hard\n",
    "    s_easy_lag = s_easy_done - easy\n",
    "    s_medium_lag = s_medium_done - medium\n",
    "    s_hard_lag = s_hard_done - hard\n",
    "    line = \"Shiv Easy Lag     \" + str(s_easy_lag)+ \"\\n\"\n",
    "    line += \"Shiv Medium Lag   \" + str(s_medium_lag) + \"\\n\"\n",
    "    line += \"Shiv Hard Lag     \" + str(s_hard_lag)+ \"\\n\"\n",
    "\n",
    "    line += \"Akshay Easy Lag   \" + str(a_easy_lag)+ \"\\n\"\n",
    "    line += \"Akshay Medium Lag \" + str(a_medium_lag) + \"\\n\"\n",
    "    line += \"Akshay Hard Lag   \" + str(a_hard_lag)+ \"\\n\"\n",
    "    return line\n",
    "\n",
    "    "
   ]
  },
  {
   "cell_type": "code",
   "execution_count": 127,
   "metadata": {
    "ExecuteTime": {
     "end_time": "2017-05-22T19:11:41.586486",
     "start_time": "2017-05-22T15:11:41.548187-04:00"
    },
    "collapsed": true
   },
   "outputs": [],
   "source": [
    "with open('Leetcode.txt', 'r') as fin:\n",
    "    data = fin.read().splitlines(True)\n",
    "with open('Leetcode.txt', 'w') as fout:\n",
    "    fout.writelines(data[6:])"
   ]
  },
  {
   "cell_type": "code",
   "execution_count": 128,
   "metadata": {
    "ExecuteTime": {
     "end_time": "2017-05-22T19:11:41.609007",
     "start_time": "2017-05-22T15:11:41.597725-04:00"
    },
    "collapsed": false
   },
   "outputs": [],
   "source": [
    "line = calculate_lag()\n",
    "with open('Leetcode.txt', 'r') as f:\n",
    "    content = f.read()\n",
    "    \n",
    "with open('Leetcode.txt', 'w') as f:\n",
    "    f.write(line.rstrip('\\r\\n') + '\\n' + content)"
   ]
  }
 ],
 "metadata": {
  "hide_input": false,
  "kernelspec": {
   "display_name": "Python 2",
   "language": "python",
   "name": "python2"
  },
  "language_info": {
   "codemirror_mode": {
    "name": "ipython",
    "version": 2
   },
   "file_extension": ".py",
   "mimetype": "text/x-python",
   "name": "python",
   "nbconvert_exporter": "python",
   "pygments_lexer": "ipython2",
   "version": "2.7.13"
  }
 },
 "nbformat": 4,
 "nbformat_minor": 2
}
